{
 "metadata": {
  "name": "",
  "signature": "sha256:e7478db64e8b19052a5e756e56d5ba1b39c5a3a0606f064e8234055ce26f45b6"
 },
 "nbformat": 3,
 "nbformat_minor": 0,
 "worksheets": [
  {
   "cells": [
    {
     "cell_type": "heading",
     "level": 2,
     "metadata": {},
     "source": [
      "Wij doen MEE - \n",
      "Dillen Bruil and Rik van Heumen - \n",
      "Assignment 11 - \n",
      "24/1/2017"
     ]
    },
    {
     "cell_type": "heading",
     "level": 3,
     "metadata": {},
     "source": [
      "Script of assignment 11, goal was to create a KML file and a html with the locations"
     ]
    },
    {
     "cell_type": "markdown",
     "metadata": {},
     "source": [
      "Import required packages"
     ]
    },
    {
     "cell_type": "code",
     "collapsed": false,
     "input": [
      "from osgeo import ogr,osr\n",
      "import os\n",
      "import folium"
     ],
     "language": "python",
     "metadata": {},
     "outputs": [],
     "prompt_number": 1
    },
    {
     "cell_type": "heading",
     "level": 4,
     "metadata": {},
     "source": [
      "Create GeoJSON file"
     ]
    },
    {
     "cell_type": "markdown",
     "metadata": {},
     "source": [
      "Select driver to create the GeoJSON file"
     ]
    },
    {
     "cell_type": "code",
     "collapsed": false,
     "input": [
      "driverName = \"GeoJSON\"\n",
      "drv = ogr.GetDriverByName(driverName)\n",
      "\n",
      "if drv is None:\n",
      "    print \"%s driver not available.\\n\" % driverName\n",
      "else:\n",
      "    print \"%s driver IS available.\\n\" % driverName"
     ],
     "language": "python",
     "metadata": {},
     "outputs": [
      {
       "output_type": "stream",
       "stream": "stdout",
       "text": [
        "GeoJSON driver IS available.\n",
        "\n"
       ]
      }
     ],
     "prompt_number": 2
    },
    {
     "cell_type": "markdown",
     "metadata": {},
     "source": [
      "Name of the GeoJSON file and layer"
     ]
    },
    {
     "cell_type": "code",
     "collapsed": false,
     "input": [
      "fn = \"houses.geojson\"\n",
      "layername = \"house_loc\""
     ],
     "language": "python",
     "metadata": {},
     "outputs": [],
     "prompt_number": 3
    },
    {
     "cell_type": "markdown",
     "metadata": {},
     "source": [
      "Create the data source"
     ]
    },
    {
     "cell_type": "code",
     "collapsed": false,
     "input": [
      "ds = drv.CreateDataSource(fn)"
     ],
     "language": "python",
     "metadata": {},
     "outputs": [],
     "prompt_number": 4
    },
    {
     "cell_type": "markdown",
     "metadata": {},
     "source": [
      "Set spatial reference"
     ]
    },
    {
     "cell_type": "code",
     "collapsed": false,
     "input": [
      "spatialReference = osr.SpatialReference()\n",
      "spatialReference.ImportFromEPSG(4326)"
     ],
     "language": "python",
     "metadata": {},
     "outputs": [
      {
       "metadata": {},
       "output_type": "pyout",
       "prompt_number": 5,
       "text": [
        "0"
       ]
      }
     ],
     "prompt_number": 5
    },
    {
     "cell_type": "markdown",
     "metadata": {},
     "source": [
      "Create layer"
     ]
    },
    {
     "cell_type": "code",
     "collapsed": false,
     "input": [
      "layer = ds.CreateLayer(layername, spatialReference, ogr.wkbPoint) "
     ],
     "language": "python",
     "metadata": {},
     "outputs": [],
     "prompt_number": 6
    },
    {
     "cell_type": "markdown",
     "metadata": {},
     "source": [
      "Create points, we selected the houses of our parents as locations."
     ]
    },
    {
     "cell_type": "code",
     "collapsed": false,
     "input": [
      "Dil = ogr.Geometry(ogr.wkbPoint)\n",
      "Rik = ogr.Geometry(ogr.wkbPoint)\n",
      "\n",
      "Dil.SetPoint(0,6.163800,52.094116)\n",
      "Rik.SetPoint(0,5.121797,51.545696)"
     ],
     "language": "python",
     "metadata": {},
     "outputs": [],
     "prompt_number": 7
    },
    {
     "cell_type": "markdown",
     "metadata": {},
     "source": [
      "Get features"
     ]
    },
    {
     "cell_type": "code",
     "collapsed": false,
     "input": [
      "layerDefinition = layer.GetLayerDefn()\n",
      "featureDil = ogr.Feature(layerDefinition)\n",
      "featureRik = ogr.Feature(layerDefinition)"
     ],
     "language": "python",
     "metadata": {},
     "outputs": [],
     "prompt_number": 8
    },
    {
     "cell_type": "markdown",
     "metadata": {},
     "source": [
      "Add the points to the features"
     ]
    },
    {
     "cell_type": "code",
     "collapsed": false,
     "input": [
      "featureDil.SetGeometry(Dil)\n",
      "featureRik.SetGeometry(Rik)"
     ],
     "language": "python",
     "metadata": {},
     "outputs": [
      {
       "metadata": {},
       "output_type": "pyout",
       "prompt_number": 9,
       "text": [
        "0"
       ]
      }
     ],
     "prompt_number": 9
    },
    {
     "cell_type": "markdown",
     "metadata": {},
     "source": [
      "Store the features in a layer"
     ]
    },
    {
     "cell_type": "code",
     "collapsed": false,
     "input": [
      "layer.CreateFeature(featureDil)\n",
      "layer.CreateFeature(featureRik)"
     ],
     "language": "python",
     "metadata": {},
     "outputs": [
      {
       "metadata": {},
       "output_type": "pyout",
       "prompt_number": 10,
       "text": [
        "0"
       ]
      }
     ],
     "prompt_number": 10
    },
    {
     "cell_type": "markdown",
     "metadata": {},
     "source": [
      "Update the file"
     ]
    },
    {
     "cell_type": "code",
     "collapsed": false,
     "input": [
      "ds.Destroy()"
     ],
     "language": "python",
     "metadata": {},
     "outputs": [],
     "prompt_number": 11
    },
    {
     "cell_type": "heading",
     "level": 4,
     "metadata": {},
     "source": [
      "Create html file to see the locations online"
     ]
    },
    {
     "cell_type": "code",
     "collapsed": false,
     "input": [
      "pointsGeo=os.path.join(\"houses.geojson\")\n",
      "map_points = folium.Map(location=[52,5.7],tiles='Mapbox Bright', zoom_start=6)\n",
      "map_points.choropleth(geo_path=pointsGeo)\n",
      "map_points.save('houses.html')"
     ],
     "language": "python",
     "metadata": {},
     "outputs": [],
     "prompt_number": 12
    },
    {
     "cell_type": "heading",
     "level": 4,
     "metadata": {},
     "source": [
      "Create a KML file with the points. For this we used a bashcommand and called this bashcommand from within python"
     ]
    },
    {
     "cell_type": "code",
     "collapsed": false,
     "input": [
      "bashCommand = \"ogr2ogr -f kml -t_srs crs:84 houses.kml houses.geojson\"\n",
      "os.system(bashCommand)"
     ],
     "language": "python",
     "metadata": {},
     "outputs": [
      {
       "metadata": {},
       "output_type": "pyout",
       "prompt_number": 13,
       "text": [
        "0"
       ]
      }
     ],
     "prompt_number": 13
    },
    {
     "cell_type": "code",
     "collapsed": false,
     "input": [
      "print \"The job has been done :)\""
     ],
     "language": "python",
     "metadata": {},
     "outputs": [
      {
       "output_type": "stream",
       "stream": "stdout",
       "text": [
        "The job has been done :)\n"
       ]
      }
     ],
     "prompt_number": 14
    }
   ],
   "metadata": {}
  }
 ]
}