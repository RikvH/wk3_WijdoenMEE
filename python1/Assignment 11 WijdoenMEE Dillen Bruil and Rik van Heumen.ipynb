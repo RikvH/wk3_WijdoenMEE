{
 "metadata": {
  "name": "",
  "signature": "sha256:88f996922f5245b5e33581641dc355500e54a29cd2987a03160017adf0fe214a"
 },
 "nbformat": 3,
 "nbformat_minor": 0,
 "worksheets": [
  {
   "cells": [
    {
     "cell_type": "code",
     "collapsed": false,
     "input": [
      "# Assignment 11 Wij doen MEE Dillen Bruil and Rik van Heumen"
     ],
     "language": "python",
     "metadata": {},
     "outputs": [],
     "prompt_number": 11
    },
    {
     "cell_type": "code",
     "collapsed": false,
     "input": [
      "%run /home/ubuntu/userdata/wk3_repository/python1/Assignment11.py"
     ],
     "language": "python",
     "metadata": {},
     "outputs": [
      {
       "output_type": "stream",
       "stream": "stdout",
       "text": [
        "GeoJSON driver IS available.\n",
        "\n",
        "The job has been done :)"
       ]
      },
      {
       "output_type": "stream",
       "stream": "stdout",
       "text": [
        "\n"
       ]
      }
     ],
     "prompt_number": 12
    },
    {
     "cell_type": "code",
     "collapsed": false,
     "input": [
      "# in case the path does not work use the script down below"
     ],
     "language": "python",
     "metadata": {},
     "outputs": []
    },
    {
     "cell_type": "code",
     "collapsed": false,
     "input": [
      "#Wij doen MEE\n",
      "#Rik van Heumen and Dillen Bruil\n",
      "#23 1 2017\n",
      "\n",
      "#Import packages\n",
      "from osgeo import ogr,osr\n",
      "import os\n",
      "import folium\n",
      "      \n",
      "## GeoJSON file\n",
      "#Create driver\n",
      "driverName = \"GeoJSON\"\n",
      "drv = ogr.GetDriverByName(driverName)\n",
      "\n",
      "if drv is None:\n",
      "    print \"%s driver not available.\\n\" % driverName\n",
      "else:\n",
      "    print \"%s driver IS available.\\n\" % driverName\n",
      "\n",
      "#Name shape file and layer\n",
      "fn = \"houses.geojson\"\n",
      "layername = \"house_loc\"\n",
      "\n",
      "#Create shapefile\n",
      "ds = drv.CreateDataSource(fn)\n",
      "\n",
      "#Set spatial reference\n",
      "spatialReference = osr.SpatialReference()\n",
      "spatialReference.ImportFromEPSG(4326)\n",
      "\n",
      "## Create Layer\n",
      "layer = ds.CreateLayer(layername, spatialReference, ogr.wkbPoint) \n",
      "\n",
      "# create points\n",
      "Dil = ogr.Geometry(ogr.wkbPoint)\n",
      "Rik = ogr.Geometry(ogr.wkbPoint)\n",
      "\n",
      "Dil.SetPoint(0,6.163800,52.094116)\n",
      "Rik.SetPoint(0,5.121797,51.545696)\n",
      "\n",
      "#Get features\n",
      "layerDefinition = layer.GetLayerDefn()\n",
      "featureDil = ogr.Feature(layerDefinition)\n",
      "featureRik = ogr.Feature(layerDefinition)\n",
      "\n",
      "#Add point to feature\n",
      "featureDil.SetGeometry(Dil)\n",
      "featureRik.SetGeometry(Rik)\n",
      "\n",
      "#Store features in a layer\n",
      "layer.CreateFeature(featureDil)\n",
      "layer.CreateFeature(featureRik)\n",
      "\n",
      "#Update\n",
      "ds.Destroy()\n",
      "\n",
      "#Create html file to see the locations online\n",
      "pointsGeo=os.path.join(\"houses.geojson\")\n",
      "map_points = folium.Map(location=[52,5.7],tiles='Mapbox Bright', zoom_start=6)\n",
      "map_points.choropleth(geo_path=pointsGeo)\n",
      "map_points.save('houses.html')\n",
      "\n",
      "#Create KML file\n",
      "bashCommand = \"ogr2ogr -f kml -t_srs crs:84 houses.kml houses.geojson\"\n",
      "os.system(bashCommand)\n",
      "print \"The job has been done :)\"\n"
     ],
     "language": "python",
     "metadata": {},
     "outputs": []
    }
   ],
   "metadata": {}
  }
 ]
}