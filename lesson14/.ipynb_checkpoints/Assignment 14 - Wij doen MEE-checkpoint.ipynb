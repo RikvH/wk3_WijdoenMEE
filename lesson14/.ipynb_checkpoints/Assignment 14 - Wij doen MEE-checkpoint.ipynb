{
 "metadata": {
  "name": "",
  "signature": "sha256:54567b0a4c107ee9a671d1d23e1774f164f2c2887e3094cde9645f005c42fcca"
 },
 "nbformat": 3,
 "nbformat_minor": 0,
 "worksheets": [
  {
   "cells": [
    {
     "cell_type": "heading",
     "level": 2,
     "metadata": {},
     "source": [
      "Assignment 14 Wij doen MEE Dillen Bruil and Rik van Heumen\n"
     ]
    },
    {
     "cell_type": "markdown",
     "metadata": {},
     "source": [
      "This script harvests tweets with #livegeo and #WDM from the WageningenUR campus and creates a html file showing the different pieces of art."
     ]
    },
    {
     "cell_type": "heading",
     "level": 4,
     "metadata": {},
     "source": [
      "Import packages"
     ]
    },
    {
     "cell_type": "code",
     "collapsed": false,
     "input": [
      "from twython import Twython\n",
      "from datetime import datetime\n",
      "from datetime import date\n",
      "import string, os, sys, subprocess, time\n",
      "import folium\n",
      "import csv"
     ],
     "language": "python",
     "metadata": {},
     "outputs": [],
     "prompt_number": 15
    },
    {
     "cell_type": "heading",
     "level": 4,
     "metadata": {},
     "source": [
      "Codes to acces twitter API"
     ]
    },
    {
     "cell_type": "code",
     "collapsed": false,
     "input": [
      "APP_KEY = \"Jiuz6QX9VFjbb1BohHkk957Ue\"\n",
      "APP_SECRET = \"0t6OZ5O7wpyGgHj3hNoHKoDvdKYEFnH1vNklSLO1o0BwNFujNX\"\n",
      "OAUTH_TOKEN = \"50629314-JCIOsV29c3m5ny6g7bwWUpOLx0a7lCQ5xsWeRL4SF\"\n",
      "OAUTH_TOKEN_SECRET = \"N8j17Y6MScjcmJBPInU1MZ90r2E4rBmJ0vFRMfetX0Qni\""
     ],
     "language": "python",
     "metadata": {},
     "outputs": [],
     "prompt_number": 16
    },
    {
     "cell_type": "heading",
     "level": 4,
     "metadata": {},
     "source": [
      "Initiate Twython object"
     ]
    },
    {
     "cell_type": "code",
     "collapsed": false,
     "input": [
      "twitter = Twython(APP_KEY, APP_SECRET, OAUTH_TOKEN, OAUTH_TOKEN_SECRET)"
     ],
     "language": "python",
     "metadata": {},
     "outputs": [],
     "prompt_number": 17
    },
    {
     "cell_type": "heading",
     "level": 4,
     "metadata": {},
     "source": [
      "Create CSV file, At first a possible old copy is removed"
     ]
    },
    {
     "cell_type": "markdown",
     "metadata": {},
     "source": [
      "Check whether a csv output file already exists and if that is the case remove this file."
     ]
    },
    {
     "cell_type": "code",
     "collapsed": false,
     "input": [
      "output_file = 'CampusART.csv'\n",
      "\n",
      "if os.path.exists(output_file):\n",
      "    os.remove(output_file)"
     ],
     "language": "python",
     "metadata": {},
     "outputs": [],
     "prompt_number": 18
    },
    {
     "cell_type": "markdown",
     "metadata": {},
     "source": [
      "Harvest the data from twitter and write the csv file."
     ]
    },
    {
     "cell_type": "code",
     "collapsed": false,
     "input": [
      "search_results = twitter.search(q='#livegeo AND #WDM', count=50,\n",
      "                                geocode='51.9856010,5.6661316,2km')\n",
      "\n",
      "for tweet in search_results[\"statuses\"]:\n",
      "    tweet_name =  tweet['user']['screen_name']\n",
      "    followers_count =  tweet['user']['followers_count']\n",
      "    tweet_text = tweet['text']\n",
      "    tweet_text = tweet_text.replace(',', ' -')\n",
      "    dt = tweet['created_at']\n",
      "    tweet_datetime = datetime.strptime(dt, '%a %b %d %H:%M:%S +0000 %Y')\n",
      "    coordinates = tweet['coordinates']\n",
      "    if coordinates != None:\n",
      "        tweet_lat = coordinates['coordinates'][0] \n",
      "        tweet_lon = coordinates['coordinates'][1]   \n",
      "        string_to_write = str(tweet_datetime)+\",\"+str(tweet_name)+\",\"+str(tweet_lat)+\",\"+str(tweet_lon)+\",\"+str(tweet_text)\n",
      "        target = open(output_file, 'a')\n",
      "        target.write(string_to_write) \n",
      "        target.write('\\n') \n",
      "        target.close()"
     ],
     "language": "python",
     "metadata": {},
     "outputs": [],
     "prompt_number": 19
    },
    {
     "cell_type": "heading",
     "level": 4,
     "metadata": {},
     "source": [
      "Create folium map"
     ]
    },
    {
     "cell_type": "code",
     "collapsed": false,
     "input": [
      "CampusLat = 51.9856010\n",
      "CampusLon = 5.6661316\n",
      "\n",
      "CampusART_map = folium.Map(location=[CampusLat, CampusLon],\n",
      "                   zoom_start=17)\n"
     ],
     "language": "python",
     "metadata": {},
     "outputs": [],
     "prompt_number": 20
    },
    {
     "cell_type": "markdown",
     "metadata": {},
     "source": [
      "Several basemap layers are added to the map. These can be selected in the html."
     ]
    },
    {
     "cell_type": "code",
     "collapsed": false,
     "input": [
      "folium.TileLayer('openstreetmap').add_to(CampusART_map)\n",
      "folium.TileLayer('stamenwatercolor').add_to(CampusART_map)\n",
      "folium.TileLayer('stamenterrain').add_to(CampusART_map)\n",
      "folium.TileLayer('stamentoner').add_to(CampusART_map)\n",
      "folium.TileLayer('cartodbpositron').add_to(CampusART_map)\n",
      "folium.TileLayer('cartodbdark_matter').add_to(CampusART_map)\n",
      "folium.LayerControl().add_to(CampusART_map)"
     ],
     "language": "python",
     "metadata": {},
     "outputs": [
      {
       "metadata": {},
       "output_type": "pyout",
       "prompt_number": 21,
       "text": [
        "<folium.map.LayerControl at 0x7f389f96f410>"
       ]
      }
     ],
     "prompt_number": 21
    },
    {
     "cell_type": "markdown",
     "metadata": {},
     "source": [
      "Define the layout of the popups and markers."
     ]
    },
    {
     "cell_type": "code",
     "collapsed": false,
     "input": [
      "with open('CampusART.csv') as csvfile:\n",
      "     alltweets = csv.reader(csvfile, delimiter=',')\n",
      "     for tweet in alltweets:\n",
      "        pop_date = tweet[0]\n",
      "        pop_user = tweet[1]\n",
      "        pop_lon = tweet[2]\n",
      "        pop_lat = tweet[3]\n",
      "        pop_tweet= tweet[4][:-14]\n",
      "        html=\"\"\"<h3> Art  piece</h3> <h5>{pop_tweet}</h5>\n",
      "        By: <a href=\"http://www.twitter.com/{pop_user}\" target=\"_blank\"> @{pop_user} </a>\n",
      "        <br> Latitude: {pop_lat}\n",
      "        <br> Longitude: {pop_lon}\n",
      "        <br> Tweeted at: {pop_date}\"\"\".format(pop_tweet=pop_tweet,\n",
      "                                      pop_user=pop_user,\n",
      "                                      pop_lon=pop_lon,\n",
      "                                      pop_lat=pop_lat,\n",
      "                                      pop_date = pop_date)\n",
      "        iframe = folium.element.IFrame(html=html, width = 250, height = 150)\n",
      "        popup = folium.Popup(iframe)\n",
      "        folium.Marker(location=[pop_lat, pop_lon],\n",
      "                      popup=popup,\n",
      "                      icon=folium.Icon(icon='comment')).add_to(CampusART_map)\n",
      "        CampusART_map.save('CampusART_map.html')"
     ],
     "language": "python",
     "metadata": {},
     "outputs": [],
     "prompt_number": 22
    }
   ],
   "metadata": {}
  }
 ]
}